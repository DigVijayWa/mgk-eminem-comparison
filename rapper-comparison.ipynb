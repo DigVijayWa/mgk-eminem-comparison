{
 "cells": [
  {
   "cell_type": "code",
   "execution_count": 1,
   "metadata": {},
   "outputs": [
    {
     "data": {
      "text/html": [
       "<div>\n",
       "<style scoped>\n",
       "    .dataframe tbody tr th:only-of-type {\n",
       "        vertical-align: middle;\n",
       "    }\n",
       "\n",
       "    .dataframe tbody tr th {\n",
       "        vertical-align: top;\n",
       "    }\n",
       "\n",
       "    .dataframe thead th {\n",
       "        text-align: right;\n",
       "    }\n",
       "</style>\n",
       "<table border=\"1\" class=\"dataframe\">\n",
       "  <thead>\n",
       "    <tr style=\"text-align: right;\">\n",
       "      <th></th>\n",
       "      <th>rapper_name</th>\n",
       "      <th>song_name</th>\n",
       "      <th>lyrics</th>\n",
       "      <th>id</th>\n",
       "    </tr>\n",
       "  </thead>\n",
       "  <tbody>\n",
       "    <tr>\n",
       "      <th>0</th>\n",
       "      <td>Eminem</td>\n",
       "      <td>Killshot</td>\n",
       "      <td>You sound like a bitch, bitch Shut the fuck up...</td>\n",
       "      <td>1</td>\n",
       "    </tr>\n",
       "    <tr>\n",
       "      <th>1</th>\n",
       "      <td>Machine Gun Kelly</td>\n",
       "      <td>Rad Devil</td>\n",
       "      <td>Oh my god, Ronny Ay, somebody grab him some cl...</td>\n",
       "      <td>2</td>\n",
       "    </tr>\n",
       "  </tbody>\n",
       "</table>\n",
       "</div>"
      ],
      "text/plain": [
       "         rapper_name  song_name  \\\n",
       "0             Eminem   Killshot   \n",
       "1  Machine Gun Kelly  Rad Devil   \n",
       "\n",
       "                                              lyrics  id  \n",
       "0  You sound like a bitch, bitch Shut the fuck up...   1  \n",
       "1  Oh my god, Ronny Ay, somebody grab him some cl...   2  "
      ]
     },
     "execution_count": 1,
     "metadata": {},
     "output_type": "execute_result"
    }
   ],
   "source": [
    "import pandas as pd\n",
    "excel_file = r'C:\\Users\\i353455\\Desktop\\rapper-comparison\\english_rapper_dataset.xlsx'\n",
    "movies = pd.read_excel(excel_file)\n",
    "movies.head()"
   ]
  },
  {
   "cell_type": "code",
   "execution_count": 2,
   "metadata": {},
   "outputs": [],
   "source": [
    "import re\n",
    "import string\n",
    "def clean_text_round1(text):\n",
    "    text = re.sub('\\[.*?\\]','',text)\n",
    "    text = re.sub('[%s]'% re.escape(string.punctuation),'',text)\n",
    "    text = re.sub('\\w*\\d\\w*','',text)\n",
    "    text = text.replace('।','')\n",
    "    text = text.lower()\n",
    "    text = re.sub('[0-9]', '', text)\n",
    "    return text\n",
    "round_1 = lambda x:clean_text_round1(x)"
   ]
  },
  {
   "cell_type": "code",
   "execution_count": 3,
   "metadata": {},
   "outputs": [
    {
     "data": {
      "text/html": [
       "<div>\n",
       "<style scoped>\n",
       "    .dataframe tbody tr th:only-of-type {\n",
       "        vertical-align: middle;\n",
       "    }\n",
       "\n",
       "    .dataframe tbody tr th {\n",
       "        vertical-align: top;\n",
       "    }\n",
       "\n",
       "    .dataframe thead th {\n",
       "        text-align: right;\n",
       "    }\n",
       "</style>\n",
       "<table border=\"1\" class=\"dataframe\">\n",
       "  <thead>\n",
       "    <tr style=\"text-align: right;\">\n",
       "      <th></th>\n",
       "      <th>lyrics</th>\n",
       "    </tr>\n",
       "  </thead>\n",
       "  <tbody>\n",
       "    <tr>\n",
       "      <th>0</th>\n",
       "      <td>you sound like a bitch bitch shut the fuck up ...</td>\n",
       "    </tr>\n",
       "    <tr>\n",
       "      <th>1</th>\n",
       "      <td>oh my god ronny ay somebody grab him some clip...</td>\n",
       "    </tr>\n",
       "  </tbody>\n",
       "</table>\n",
       "</div>"
      ],
      "text/plain": [
       "                                              lyrics\n",
       "0  you sound like a bitch bitch shut the fuck up ...\n",
       "1  oh my god ronny ay somebody grab him some clip..."
      ]
     },
     "execution_count": 3,
     "metadata": {},
     "output_type": "execute_result"
    }
   ],
   "source": [
    "data_clean = pd.DataFrame(movies['lyrics'].apply(round_1))\n",
    "data_clean"
   ]
  },
  {
   "cell_type": "code",
   "execution_count": 4,
   "metadata": {},
   "outputs": [
    {
     "data": {
      "text/html": [
       "<div>\n",
       "<style scoped>\n",
       "    .dataframe tbody tr th:only-of-type {\n",
       "        vertical-align: middle;\n",
       "    }\n",
       "\n",
       "    .dataframe tbody tr th {\n",
       "        vertical-align: top;\n",
       "    }\n",
       "\n",
       "    .dataframe thead th {\n",
       "        text-align: right;\n",
       "    }\n",
       "</style>\n",
       "<table border=\"1\" class=\"dataframe\">\n",
       "  <thead>\n",
       "    <tr style=\"text-align: right;\">\n",
       "      <th></th>\n",
       "      <th>02</th>\n",
       "      <th>20</th>\n",
       "      <th>2012</th>\n",
       "      <th>29</th>\n",
       "      <th>45</th>\n",
       "      <th>46</th>\n",
       "      <th>50</th>\n",
       "      <th>80</th>\n",
       "      <th>accordin</th>\n",
       "      <th>acknowledge</th>\n",
       "      <th>...</th>\n",
       "      <th>year</th>\n",
       "      <th>years</th>\n",
       "      <th>yelawolf</th>\n",
       "      <th>yell</th>\n",
       "      <th>yellin</th>\n",
       "      <th>yelling</th>\n",
       "      <th>yo</th>\n",
       "      <th>young</th>\n",
       "      <th>younger</th>\n",
       "      <th>zzzzt</th>\n",
       "    </tr>\n",
       "    <tr>\n",
       "      <th>rapper_name</th>\n",
       "      <th></th>\n",
       "      <th></th>\n",
       "      <th></th>\n",
       "      <th></th>\n",
       "      <th></th>\n",
       "      <th></th>\n",
       "      <th></th>\n",
       "      <th></th>\n",
       "      <th></th>\n",
       "      <th></th>\n",
       "      <th></th>\n",
       "      <th></th>\n",
       "      <th></th>\n",
       "      <th></th>\n",
       "      <th></th>\n",
       "      <th></th>\n",
       "      <th></th>\n",
       "      <th></th>\n",
       "      <th></th>\n",
       "      <th></th>\n",
       "      <th></th>\n",
       "    </tr>\n",
       "  </thead>\n",
       "  <tbody>\n",
       "    <tr>\n",
       "      <th>Eminem</th>\n",
       "      <td>1</td>\n",
       "      <td>1</td>\n",
       "      <td>0</td>\n",
       "      <td>1</td>\n",
       "      <td>1</td>\n",
       "      <td>0</td>\n",
       "      <td>0</td>\n",
       "      <td>1</td>\n",
       "      <td>0</td>\n",
       "      <td>0</td>\n",
       "      <td>...</td>\n",
       "      <td>3</td>\n",
       "      <td>0</td>\n",
       "      <td>0</td>\n",
       "      <td>1</td>\n",
       "      <td>2</td>\n",
       "      <td>1</td>\n",
       "      <td>1</td>\n",
       "      <td>1</td>\n",
       "      <td>1</td>\n",
       "      <td>0</td>\n",
       "    </tr>\n",
       "    <tr>\n",
       "      <th>Machine Gun Kelly</th>\n",
       "      <td>0</td>\n",
       "      <td>0</td>\n",
       "      <td>1</td>\n",
       "      <td>0</td>\n",
       "      <td>1</td>\n",
       "      <td>1</td>\n",
       "      <td>2</td>\n",
       "      <td>0</td>\n",
       "      <td>1</td>\n",
       "      <td>2</td>\n",
       "      <td>...</td>\n",
       "      <td>1</td>\n",
       "      <td>2</td>\n",
       "      <td>1</td>\n",
       "      <td>0</td>\n",
       "      <td>1</td>\n",
       "      <td>0</td>\n",
       "      <td>0</td>\n",
       "      <td>1</td>\n",
       "      <td>1</td>\n",
       "      <td>1</td>\n",
       "    </tr>\n",
       "  </tbody>\n",
       "</table>\n",
       "<p>2 rows × 564 columns</p>\n",
       "</div>"
      ],
      "text/plain": [
       "                   02  20  2012  29  45  46  50  80  accordin  acknowledge  \\\n",
       "rapper_name                                                                  \n",
       "Eminem              1   1     0   1   1   0   0   1         0            0   \n",
       "Machine Gun Kelly   0   0     1   0   1   1   2   0         1            2   \n",
       "\n",
       "                   ...  year  years  yelawolf  yell  yellin  yelling  yo  \\\n",
       "rapper_name        ...                                                     \n",
       "Eminem             ...     3      0         0     1       2        1   1   \n",
       "Machine Gun Kelly  ...     1      2         1     0       1        0   0   \n",
       "\n",
       "                   young  younger  zzzzt  \n",
       "rapper_name                               \n",
       "Eminem                 1        1      0  \n",
       "Machine Gun Kelly      1        1      1  \n",
       "\n",
       "[2 rows x 564 columns]"
      ]
     },
     "execution_count": 4,
     "metadata": {},
     "output_type": "execute_result"
    }
   ],
   "source": [
    "from sklearn.feature_extraction.text import CountVectorizer\n",
    "\n",
    "cv = CountVectorizer(stop_words='english')\n",
    "data_cv = cv.fit_transform(movies['lyrics'])\n",
    "data_dtm = pd.DataFrame(data_cv.toarray(), columns=cv.get_feature_names())\n",
    "data_dtm.index = movies.rapper_name\n",
    "data_dtm"
   ]
  },
  {
   "cell_type": "code",
   "execution_count": 5,
   "metadata": {},
   "outputs": [
    {
     "data": {
      "text/plain": [
       "{'Eminem': [('fuckin', 9),\n",
       "  ('got', 8),\n",
       "  ('like', 8),\n",
       "  ('just', 7),\n",
       "  ('bitch', 7),\n",
       "  ('ll', 5),\n",
       "  ('cause', 5),\n",
       "  ('old', 5),\n",
       "  ('fuck', 5),\n",
       "  ('talk', 5),\n",
       "  ('really', 4),\n",
       "  ('don', 4),\n",
       "  ('let', 4),\n",
       "  ('mic', 4),\n",
       "  ('day', 4),\n",
       "  ('want', 3),\n",
       "  ('ho', 3),\n",
       "  ('beard', 3),\n",
       "  ('gun', 3),\n",
       "  ('oh', 3),\n",
       "  ('hit', 3),\n",
       "  ('lil', 3),\n",
       "  ('sick', 3),\n",
       "  ('mouth', 3),\n",
       "  ('diddy', 3),\n",
       "  ('know', 3),\n",
       "  ('weird', 3),\n",
       "  ('kelly', 3),\n",
       "  ('albums', 3),\n",
       "  ('year', 3)],\n",
       " 'Machine Gun Kelly': [('talk', 15),\n",
       "  ('let', 13),\n",
       "  ('know', 9),\n",
       "  ('sick', 8),\n",
       "  ('ll', 7),\n",
       "  ('mad', 7),\n",
       "  ('just', 7),\n",
       "  ('like', 6),\n",
       "  ('ay', 6),\n",
       "  ('bitch', 5),\n",
       "  ('ain', 5),\n",
       "  ('fuckin', 5),\n",
       "  ('body', 5),\n",
       "  ('rapper', 5),\n",
       "  ('bein', 4),\n",
       "  ('single', 4),\n",
       "  ('god', 4),\n",
       "  ('got', 4),\n",
       "  ('gully', 4),\n",
       "  ('chalk', 4),\n",
       "  ('dads', 4),\n",
       "  ('album', 4),\n",
       "  ('midwest', 4),\n",
       "  ('hats', 4),\n",
       "  ('rich', 4),\n",
       "  ('called', 4),\n",
       "  ('damn', 4),\n",
       "  ('sweatsuits', 4),\n",
       "  ('size', 4),\n",
       "  ('yeah', 4)]}"
      ]
     },
     "execution_count": 5,
     "metadata": {},
     "output_type": "execute_result"
    }
   ],
   "source": [
    "data_dtm = data_dtm.transpose()\n",
    "top_dict = {}\n",
    "for c in data_dtm.columns:\n",
    "    top = data_dtm[c].sort_values(ascending=False).head(30)\n",
    "    top_dict[c]= list(zip(top.index, top.values))\n",
    "\n",
    "top_dict"
   ]
  },
  {
   "cell_type": "code",
   "execution_count": 6,
   "metadata": {},
   "outputs": [
    {
     "name": "stdout",
     "output_type": "stream",
     "text": [
      "Eminem\n",
      "fuckin, got, like, just, bitch, ll, cause, old, fuck, talk, really, don, let, mic\n",
      "---\n",
      "Machine Gun Kelly\n",
      "talk, let, know, sick, ll, mad, just, like, ay, bitch, ain, fuckin, body, rapper\n",
      "---\n"
     ]
    }
   ],
   "source": [
    "for comedian, top_words in top_dict.items():\n",
    "    print(comedian)\n",
    "    print(', '.join([word for word, count in top_words[0:14]]))\n",
    "    print('---')"
   ]
  },
  {
   "cell_type": "code",
   "execution_count": 7,
   "metadata": {},
   "outputs": [
    {
     "data": {
      "text/plain": [
       "['fuckin',\n",
       " 'got',\n",
       " 'like',\n",
       " 'just',\n",
       " 'bitch',\n",
       " 'll',\n",
       " 'cause',\n",
       " 'old',\n",
       " 'fuck',\n",
       " 'talk',\n",
       " 'really',\n",
       " 'don',\n",
       " 'let',\n",
       " 'mic',\n",
       " 'day',\n",
       " 'want',\n",
       " 'ho',\n",
       " 'beard',\n",
       " 'gun',\n",
       " 'oh',\n",
       " 'hit',\n",
       " 'lil',\n",
       " 'sick',\n",
       " 'mouth',\n",
       " 'diddy',\n",
       " 'know',\n",
       " 'weird',\n",
       " 'kelly',\n",
       " 'albums',\n",
       " 'year',\n",
       " 'talk',\n",
       " 'let',\n",
       " 'know',\n",
       " 'sick',\n",
       " 'll',\n",
       " 'mad',\n",
       " 'just',\n",
       " 'like',\n",
       " 'ay',\n",
       " 'bitch',\n",
       " 'ain',\n",
       " 'fuckin',\n",
       " 'body',\n",
       " 'rapper',\n",
       " 'bein',\n",
       " 'single',\n",
       " 'god',\n",
       " 'got',\n",
       " 'gully',\n",
       " 'chalk',\n",
       " 'dads',\n",
       " 'album',\n",
       " 'midwest',\n",
       " 'hats',\n",
       " 'rich',\n",
       " 'called',\n",
       " 'damn',\n",
       " 'sweatsuits',\n",
       " 'size',\n",
       " 'yeah']"
      ]
     },
     "execution_count": 7,
     "metadata": {},
     "output_type": "execute_result"
    }
   ],
   "source": [
    "from collections import Counter\n",
    "\n",
    "# Let's first pull out the top 30 words for each comedian\n",
    "words = []\n",
    "for comedian in data_dtm.columns:\n",
    "    top = [word for (word, count) in top_dict[comedian]]\n",
    "    for t in top:\n",
    "        words.append(t)\n",
    "        \n",
    "words"
   ]
  },
  {
   "cell_type": "code",
   "execution_count": 8,
   "metadata": {},
   "outputs": [],
   "source": [
    "from wordcloud import WordCloud\n",
    "\n",
    "wc = WordCloud(background_color=\"white\", colormap=\"Dark2\",\n",
    "               max_font_size=150, random_state=42)"
   ]
  },
  {
   "cell_type": "code",
   "execution_count": 9,
   "metadata": {},
   "outputs": [
    {
     "data": {
      "image/png": "[encoded data removed]",
      "text/plain": [
       "<Figure size 1152x144 with 2 Axes>"
      ]
     },
     "metadata": {
      "needs_background": "light"
     },
     "output_type": "display_data"
    }
   ],
   "source": [
    "import matplotlib.pyplot as plt\n",
    "\n",
    "plt.rcParams['figure.figsize'] = [16, 2]\n",
    "\n",
    "full_names = ['Eminem','Machine Gun Kelly']\n",
    "\n",
    "# Create subplots for each comedian\n",
    "for index, comedian in enumerate(data_dtm.columns):\n",
    "    wc.generate(data_clean.lyrics[index])\n",
    "    \n",
    "    plt.subplot(1, 2, index+1)\n",
    "    plt.imshow(wc, interpolation=\"bilinear\")\n",
    "    plt.axis(\"off\")\n",
    "    plt.title(full_names[index])\n",
    "    \n",
    "plt.show()"
   ]
  },
  {
   "cell_type": "code",
   "execution_count": 10,
   "metadata": {},
   "outputs": [
    {
     "name": "stderr",
     "output_type": "stream",
     "text": [
      "C:\\Anaconda\\lib\\site-packages\\ipykernel_launcher.py:3: FutureWarning: Series.nonzero() is deprecated and will be removed in a future version.Use Series.to_numpy().nonzero() instead\n",
      "  This is separate from the ipykernel package so we can avoid doing imports until\n"
     ]
    },
    {
     "data": {
      "text/html": [
       "<div>\n",
       "<style scoped>\n",
       "    .dataframe tbody tr th:only-of-type {\n",
       "        vertical-align: middle;\n",
       "    }\n",
       "\n",
       "    .dataframe tbody tr th {\n",
       "        vertical-align: top;\n",
       "    }\n",
       "\n",
       "    .dataframe thead th {\n",
       "        text-align: right;\n",
       "    }\n",
       "</style>\n",
       "<table border=\"1\" class=\"dataframe\">\n",
       "  <thead>\n",
       "    <tr style=\"text-align: right;\">\n",
       "      <th></th>\n",
       "      <th>rapper</th>\n",
       "      <th>unique_words</th>\n",
       "    </tr>\n",
       "  </thead>\n",
       "  <tbody>\n",
       "    <tr>\n",
       "      <th>1</th>\n",
       "      <td>Machine Gun Kelly</td>\n",
       "      <td>328</td>\n",
       "    </tr>\n",
       "    <tr>\n",
       "      <th>0</th>\n",
       "      <td>Eminem</td>\n",
       "      <td>339</td>\n",
       "    </tr>\n",
       "  </tbody>\n",
       "</table>\n",
       "</div>"
      ],
      "text/plain": [
       "              rapper  unique_words\n",
       "1  Machine Gun Kelly           328\n",
       "0             Eminem           339"
      ]
     },
     "execution_count": 10,
     "metadata": {},
     "output_type": "execute_result"
    }
   ],
   "source": [
    "unique_list = []\n",
    "for rapper in data_dtm.columns:\n",
    "    uniques = data_dtm[rapper].nonzero()[0].size\n",
    "    unique_list.append(uniques)\n",
    "\n",
    "# Create a new dataframe that contains this unique word count\n",
    "data_words = pd.DataFrame(list(zip(full_names, unique_list)), columns=['rapper', 'unique_words'])\n",
    "data_unique_sort = data_words.sort_values(by='unique_words')\n",
    "data_unique_sort"
   ]
  },
  {
   "cell_type": "code",
   "execution_count": 11,
   "metadata": {},
   "outputs": [
    {
     "data": {
      "text/html": [
       "<div>\n",
       "<style scoped>\n",
       "    .dataframe tbody tr th:only-of-type {\n",
       "        vertical-align: middle;\n",
       "    }\n",
       "\n",
       "    .dataframe tbody tr th {\n",
       "        vertical-align: top;\n",
       "    }\n",
       "\n",
       "    .dataframe thead th {\n",
       "        text-align: right;\n",
       "    }\n",
       "</style>\n",
       "<table border=\"1\" class=\"dataframe\">\n",
       "  <thead>\n",
       "    <tr style=\"text-align: right;\">\n",
       "      <th></th>\n",
       "      <th>rapper</th>\n",
       "      <th>unique_words</th>\n",
       "      <th>total_words</th>\n",
       "      <th>run_times</th>\n",
       "      <th>words_per_minute</th>\n",
       "    </tr>\n",
       "  </thead>\n",
       "  <tbody>\n",
       "    <tr>\n",
       "      <th>0</th>\n",
       "      <td>Eminem</td>\n",
       "      <td>339</td>\n",
       "      <td>482</td>\n",
       "      <td>4.13</td>\n",
       "      <td>116.707022</td>\n",
       "    </tr>\n",
       "    <tr>\n",
       "      <th>1</th>\n",
       "      <td>Machine Gun Kelly</td>\n",
       "      <td>328</td>\n",
       "      <td>538</td>\n",
       "      <td>4.47</td>\n",
       "      <td>120.357942</td>\n",
       "    </tr>\n",
       "  </tbody>\n",
       "</table>\n",
       "</div>"
      ],
      "text/plain": [
       "              rapper  unique_words  total_words  run_times  words_per_minute\n",
       "0             Eminem           339          482       4.13        116.707022\n",
       "1  Machine Gun Kelly           328          538       4.47        120.357942"
      ]
     },
     "execution_count": 11,
     "metadata": {},
     "output_type": "execute_result"
    }
   ],
   "source": [
    "total_list = []\n",
    "for rapper in data_dtm.columns:\n",
    "    totals = sum(data_dtm[rapper])\n",
    "    total_list.append(totals)\n",
    "    \n",
    "# Comedy special run times from IMDB, in minutes\n",
    "run_times = [4.13,4.47]\n",
    "\n",
    "# Let's add some columns to our dataframe\n",
    "data_words['total_words'] = total_list\n",
    "data_words['run_times'] = run_times\n",
    "data_words['words_per_minute'] = data_words['total_words'] / data_words['run_times']\n",
    "\n",
    "# Sort the dataframe by words per minute to see who talks the slowest and fastest\n",
    "data_wpm_sort = data_words.sort_values(by='words_per_minute')\n",
    "data_wpm_sort"
   ]
  },
  {
   "cell_type": "code",
   "execution_count": 12,
   "metadata": {},
   "outputs": [
    {
     "data": {
      "image/png": "[encoded data removed]",
      "text/plain": [
       "<Figure size 1152x144 with 2 Axes>"
      ]
     },
     "metadata": {
      "needs_background": "light"
     },
     "output_type": "display_data"
    }
   ],
   "source": [
    "import numpy as np\n",
    "\n",
    "y_pos = np.arange(len(data_words))\n",
    "\n",
    "plt.subplot(1, 2, 1)\n",
    "plt.barh(y_pos, data_unique_sort.unique_words, align='center')\n",
    "plt.yticks(y_pos, data_unique_sort.rapper)\n",
    "plt.title('Number of Unique Words', fontsize=20)\n",
    "\n",
    "plt.subplot(1, 2, 2)\n",
    "plt.barh(y_pos, data_wpm_sort.words_per_minute, align='center')\n",
    "plt.yticks(y_pos, data_wpm_sort.rapper)\n",
    "plt.title('Number of Words Per Minute', fontsize=20)\n",
    "\n",
    "plt.tight_layout()\n",
    "plt.show()"
   ]
  },
  {
   "cell_type": "code",
   "execution_count": null,
   "metadata": {},
   "outputs": [],
   "source": []
  }
 ],
 "metadata": {
  "kernelspec": {
   "display_name": "Python 3",
   "language": "python",
   "name": "python3"
  },
  "language_info": {
   "codemirror_mode": {
    "name": "ipython",
    "version": 3
   },
   "file_extension": ".py",
   "mimetype": "text/x-python",
   "name": "python",
   "nbconvert_exporter": "python",
   "pygments_lexer": "ipython3",
   "version": "3.7.3"
  }
 },
 "nbformat": 4,
 "nbformat_minor": 2
}
